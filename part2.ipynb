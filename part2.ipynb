{
 "cells": [
  {
   "cell_type": "markdown",
   "metadata": {},
   "source": [
    "# Part 2\n",
    "### Planning major methods"
   ]
  },
  {
   "cell_type": "code",
   "execution_count": 6,
   "metadata": {},
   "outputs": [],
   "source": [
    "def get_phred(char):\n",
    "    \"\"\" given char, return converted Phred quality score \"\"\"\n",
    "    pass\n",
    "\n",
    "def get_indices(file):\n",
    "    \"\"\" takes a file of indices and returns a dict of (index : name) entries \"\"\"\n",
    "    # iterate over file\n",
    "        # for each, make entry\n",
    "    # return dict\n",
    "    pass\n",
    "\n",
    "def mean_phred(seq):\n",
    "    \"\"\" given a FASTQ quality string, return mean phred score\"\"\"\n",
    "    # iterate over chars\n",
    "        # call get_phred for char and add result to running total\n",
    "    # return running total / length of sequence\n",
    "    pass\n",
    "\n",
    "def good_reads(iDict,r1,i1,r2,i2,minQ):\n",
    "    \"\"\" given a dictionary of indicies, FASTQs [reads 1, indices 1, reads 2 indices 2],\n",
    "        and a minimum mean quality (minQ), write separate FASTQ files for each index and \n",
    "        strand, with a separate 'bad' category for records with non-matching, improper,\n",
    "        or low-quality indices. \"\"\"\n",
    "    \n",
    "        # keep track of records/index using countDict of index names (+ 'hopped')\n",
    "        \n",
    "        # gzip.open each input file using 'rt' to get text instead of binary string\n",
    "        \n",
    "    \"\"\" iterate through lines in files at the same time \"\"\"\n",
    "        # use iterator i for file lines and only when i%4==3, do\n",
    "            # if index1 is in dict and high quality AND equals index2 which is in dict and high quality\n",
    "            # (obviously above line will call mean_phred)\n",
    "                # current index = index name from iDict\n",
    "            # else \n",
    "                # current index = 'bad'\n",
    "                # append indices and index qualities to respective read headers\n",
    "            # open read1, read2 files for current index and write records\n",
    "            # add one to current index entry in cDict\n",
    "            # close files\n",
    "        \n",
    "    \"\"\" create an output file with information \"\"\"\n",
    "        # open stats output file\n",
    "        # for each index\n",
    "            # write index name, index itself\n",
    "            # write number of records matched with it\n",
    "            # write percent of total records matched with it\n",
    "        # write number of 'hopped' index reads, and percent of 'hopped' index reads\n",
    "    pass"
   ]
  },
  {
   "cell_type": "markdown",
   "metadata": {},
   "source": [
    "## Unit tests\n",
    "### Index_read1.fq\n",
    "\n",
    "    @BAD-N_in_index1-Index1\n",
    "    NCTTCGAC\n",
    "    +\n",
    "    ????????\n",
    "    @GOOD-index_C1-1-Index1\n",
    "    GATCAAGG\n",
    "    +\n",
    "    @@@@@@@@\n",
    "    @BAD-index_C1_vs_B2-Index1\n",
    "    GATCAAGG\n",
    "    +\n",
    "    AAAAAAAA\n",
    "    @GOOD-index_A12-Index1\n",
    "    TCGACAAG\n",
    "    +\n",
    "    BBBBBBBB\n",
    "    @BAD-N_in_index2-Index1\n",
    "    TACCGGAT\n",
    "    +\n",
    "    CCCCCCCC\n",
    "    @GOOD-index_C1-2-Index1\n",
    "    GATCAAGG\n",
    "    +\n",
    "    DEFGHI?II"
   ]
  },
  {
   "cell_type": "markdown",
   "metadata": {},
   "source": [
    "Index 1 mean quality, by position: 32.5,32.666667,32.833333,33,33.166667,33.333333,31.666667,33.333333,33.333333"
   ]
  },
  {
   "cell_type": "markdown",
   "metadata": {},
   "source": [
    "### Index_read2.fq\n",
    "\n",
    "    @BAD-N_in_index1-Index2\n",
    "    TCTTCGAC\n",
    "    +\n",
    "    IIIIIIII\n",
    "    @GOOD-index_C1-1-Index2\n",
    "    GATCAAGG\n",
    "    +\n",
    "    IIIIIIIC\n",
    "    @BAD-index_C1_vs_B2-Index2\n",
    "    GCTACTCT\n",
    "    +\n",
    "    IIIIIICC\n",
    "    @GOOD-index_A12-Index2\n",
    "    TCGACAAG\n",
    "    +\n",
    "    IIIIICCC\n",
    "    @BAD-N_in_index2-Index2\n",
    "    TACCGGNT\n",
    "    +\n",
    "    IIIICCCC\n",
    "    @GOOD-index_C1-2-Index2\n",
    "    GATCAAGG\n",
    "    +\n",
    "    IIICCCCC"
   ]
  },
  {
   "cell_type": "markdown",
   "metadata": {},
   "source": [
    "Index 2 mean quality, by position: 40,40,40,39,38,37,36,35"
   ]
  },
  {
   "cell_type": "markdown",
   "metadata": {},
   "source": [
    "### Bio_read1.fq\n",
    "\n",
    "    @BAD-N_in_index1-Read1\n",
    "    CATGGACGTAGNACCTGATCGATNNACNATNNCANTNCANTNGANATTACAGACTNAGATCANATACATAGCATTTAGATCATANNNATAATACTACCCAT\n",
    "    +\n",
    "    ?????????????????????????????????????????????????????????????????????????????????????????????????????\n",
    "    @GOOD-index_C1-1-Read1\n",
    "    CATGGACATGGNATCTGATCGATNNCTATNNCCANTNCANTCCTNTTGAAAAANTNAAACCCTNGAACTAGCATTTAGATCTGNATATAGACANNNACCAT\n",
    "    +\n",
    "    EEEEEEEEEE???????????????????????????????????????????????????????????????????????????????????????????\n",
    "    @BAD-index_C1_vs_B2-Read1\n",
    "    TAGACTAAAANCTCCTGATCGANCTANTACCANANTNCANTGTNATCGTGTCGNATAGATCANATACACNTSGATDAGATCATNCTGAGGACGDNCCCGGG\n",
    "    +\n",
    "    EEEEEEEEEEEEEEEEEEEE?????????????????????????????????????????????????????????????????????????????????\n",
    "    @GOOD-index_A12-Read1\n",
    "    GCTACNNATCGATCNAGCTAGCNATCGATANNCGATCGNNACGTACGANNNCGCTCGCCCTCGACTCTCTCGCTCGANCGTAGCGTCCNAGCTCGATCNCT\n",
    "    +\n",
    "    EEEEEEEEEEEEEEEEEEEEEEEEEEEEEE???????????????????????????????????????????????????????????????????????\n",
    "    @BAD-N_in_index2-Read1\n",
    "    GCTDGANCCCTACTAGCTANCTAGCTAGGGCTAGCTCGACTTCGATACGATCGATCNTATAATCNNNCTACTAGCTANCGTAGCTACNNCGATGTGTCANN\n",
    "    +\n",
    "    EEEEEEEEEEEEEEEEEEEEEEEEEEEEEEEEEEEEEEEE?????????????????????????????????????????????????????????????\n",
    "    @GOOD-index_C1-2-Read1\n",
    "    GCTAGGGGCTTTTTTTTTTTTTTTTTNANNANACTCTTATCAGTACNATAGCATAGTCNNNACGTTGTTTCTCTCTTGCGTCGTATGCTAGCTAGCTAGCT\n",
    "    +\n",
    "    EEEEEEEEEEEEEEEEEEEEEEEEEEEEEEEEEEEEEEEEEEEEEEEEEE???????????????????????????????????????????????????"
   ]
  },
  {
   "cell_type": "raw",
   "metadata": {},
   "source": [
    "Read 1 mean quality, by position: 1-10=35, 11-20=34 21-30=33 31-40=32,41-50=31, 51-101=30"
   ]
  },
  {
   "cell_type": "markdown",
   "metadata": {},
   "source": [
    "### Bio_read2.fq\n",
    "\n",
    "    @BAD-N_in_index1-Read2\n",
    "    GCTAAACGACGCTNNNACTAGCTCTGCGTCCCCCTCGCTCTCGCGGCCTTCCGCACGCGCTCCGCGGCATCTAGCGATCTAGCCANNNNACNNANCNCTTC\n",
    "    +\n",
    "    CCCCCCCCCCCCCCCCCCCCCCCCCCCCCCCCCCCCCCCCCCCCCCCCCCCCCCCCCCCCCCCCCCCCCCCCCCCCCCCCCCCCCCCCCCCCCCCCCCCCC\n",
    "    @GOOD-index_C1-1-Read2\n",
    "    ACCCTCGCTCNNACCTATCTCCTAACTCTCTCTCTTCTTCTTTTTTTTCTTCTCAATTCTAGCCTCGATATAGTCTCGCCCTCTCTCTAAANAANCGGCAC\n",
    "    +\n",
    "    CCCCICCCCICCCCICCCCICCCCICCCCICCCCICCCCICCCCICCCCICCCCICCCCICCCCICCCCICCCCICCCCICCCCICCCCICCCCICCCCIC\n",
    "    @BAD-index_C1_vs_B2-Read2\n",
    "    ACCATCGCTAGACACTTTAGATAGCAAAAAAAAAAAAAAAAAAACCCCCCCCCCCCCTTTTTTTTTTTTTGGGGGGGGGGGGCTCGCATAGCTCGCGCCTC\n",
    "    +\n",
    "    CCCICCCICCCICCCICCCICCCICCCICCCICCCICCCICCCICCCICCCICCCICCCICCCICCCICCCICCCICCCICCCICCCICCCICCCICCCIC\n",
    "    @GOOD-index_A12-Read2\n",
    "    CGGGGGGGGGGGGGGGGGGGGGTTTTTATACGGTCGTGCTGCTGATTGTATGTAGCGTCGTAGCTGCATAGCTGCTGCTCGCTGATGCATCGTAGCTACGC\n",
    "    +\n",
    "    CCICCICCICCICCICCICCICCICCICCICCICCICCICCICCICCICCICCICCICCICCICCICCICCICCICCICCICCICCICCICCICCICCICC\n",
    "    @BAD-N_in_index2-Read2\n",
    "    TTTAAAACTCTCTTATATCTGGGGGNATCTCTCTTAATGCTAGAGTGAGTAGGAGAGTAGGGGGGGATATGATGATAGTAGAGTGGGGTCTCTCTATATAA\n",
    "    +\n",
    "    CICICICICICICICICICICICICICICICICICICICICICICICICICICICICICICICICICICICICICICICICICICICICICICICICICIC\n",
    "    @GOOD-index_C1-2-Read2\n",
    "    ACGCTAGTAGCTGACTGATAGTAGAGTCGTCAGAGGGGGGTAGTAGTACGTGTCAGTCAGTCAGTCAGTCAGTCAGTCAGTGATGTGTGTGTGTGTAGCTA\n",
    "    +\n",
    "    CCCCCICCCCCICCCCCICCCCCICCCCCICCCCCICCCCCICCCCCICCCCCICCCCCICCCCCICCCCCICCCCCICCCCCICCCCCICCCCCICCCCC"
   ]
  },
  {
   "cell_type": "markdown",
   "metadata": {},
   "source": [
    "Read 2 mean quality, by position: (34,35,36,37,38,39) repeat 16 times, then end in 34,35,35,37,34"
   ]
  },
  {
   "cell_type": "markdown",
   "metadata": {},
   "source": [
    "# Resulting FASTQs:\n",
    "### Bad-index_read1.fq"
   ]
  },
  {
   "cell_type": "markdown",
   "metadata": {},
   "source": [
    "    @BAD-N_in_index1-Read1_index_NCTTCGAC_qual_????????\n",
    "    CATGGACGTAGNACCTGATCGATNNACNATNNCANTNCANTNGANATTACAGACTNAGATCANATACATAGCATTTAGATCATANNNATAATACTACCCAT\n",
    "    +\n",
    "    ?????????????????????????????????????????????????????????????????????????????????????????????????????\n",
    "    @BAD-index_C1_vs_B2-Read1_index_GATCAAGG_qual_AAAAAAAA\n",
    "    TAGACTAAAANCTCCTGATCGANCTANTACCANANTNCANTGTNATCGTGTCGNATAGATCANATACACNTSGATDAGATCATNCTGAGGACGDNCCCGGG\n",
    "    +\n",
    "    EEEEEEEEEEEEEEEEEEEE?????????????????????????????????????????????????????????????????????????????????\n",
    "    @BAD-N_in_index2-Read1_index_TACCGGAT_qual_CCCCCCCC\n",
    "    GCTDGANCCCTACTAGCTANCTAGCTAGGGCTAGCTCGACTTCGATACGATCGATCNTATAATCNNNCTACTAGCTANCGTAGCTACNNCGATGTGTCANN\n",
    "    +\n",
    "    EEEEEEEEEEEEEEEEEEEEEEEEEEEEEEEEEEEEEEEE?????????????????????????????????????????????????????????????"
   ]
  },
  {
   "cell_type": "markdown",
   "metadata": {},
   "source": [
    "### C1_read1.fq\n",
    "\n",
    "    @GOOD-index_C1-1-Read1\n",
    "    CATGGACATGGNATCTGATCGATNNCTATNNCCANTNCANTCCTNTTGAAAAANTNAAACCCTNGAACTAGCATTTAGATCTGNATATAGACANNNACCAT\n",
    "    +\n",
    "    EEEEEEEEEE???????????????????????????????????????????????????????????????????????????????????????????\n",
    "    @GOOD-index_C1-2-Read1\n",
    "    GCTAGGGGCTTTTTTTTTTTTTTTTTNANNANACTCTTATCAGTACNATAGCATAGTCNNNACGTTGTTTCTCTCTTGCGTCGTATGCTAGCTAGCTAGCT\n",
    "    +\n",
    "    EEEEEEEEEEEEEEEEEEEEEEEEEEEEEEEEEEEEEEEEEEEEEEEEEE???????????????????????????????????????????????????"
   ]
  },
  {
   "cell_type": "markdown",
   "metadata": {},
   "source": [
    "### A12_read1.fq\n",
    "\n",
    "    @GOOD-index_A12-Read1\n",
    "    GCTACNNATCGATCNAGCTAGCNATCGATANNCGATCGNNACGTACGANNNCGCTCGCCCTCGACTCTCTCGCTCGANCGTAGCGTCCNAGCTCGATCNCT\n",
    "    +\n",
    "    EEEEEEEEEEEEEEEEEEEEEEEEEEEEEE???????????????????????????????????????????????????????????????????????\n"
   ]
  },
  {
   "cell_type": "markdown",
   "metadata": {},
   "source": [
    "### Bad-index_read2.fq\n",
    "\n",
    "    @BAD-N_in_index1-Read2_index_TCTTCGAC_qual_IIIIIIII\n",
    "    GCTAAACGACGCTNNNACTAGCTCTGCGTCCCCCTCGCTCTCGCGGCCTTCCGCACGCGCTCCGCGGCATCTAGCGATCTAGCCANNNNACNNANCNCTTC\n",
    "    +\n",
    "    CCCCCCCCCCCCCCCCCCCCCCCCCCCCCCCCCCCCCCCCCCCCCCCCCCCCCCCCCCCCCCCCCCCCCCCCCCCCCCCCCCCCCCCCCCCCCCCCCCCCC\n",
    "    @BAD-index_C1_vs_B2-Read2_index_GCTACTCT_qual_IIIIIICC\n",
    "    ACCATCGCTAGACACTTTAGATAGCAAAAAAAAAAAAAAAAAAACCCCCCCCCCCCCTTTTTTTTTTTTTGGGGGGGGGGGGCTCGCATAGCTCGCGCCTC\n",
    "    +\n",
    "    CCCICCCICCCICCCICCCICCCICCCICCCICCCICCCICCCICCCICCCICCCICCCICCCICCCICCCICCCICCCICCCICCCICCCICCCICCCIC\n",
    "    @BAD-N_in_index2-Read2_index_TACCGGNT_qual_IIIICCCC\n",
    "    TTTAAAACTCTCTTATATCTGGGGGNATCTCTCTTAATGCTAGAGTGAGTAGGAGAGTAGGGGGGGATATGATGATAGTAGAGTGGGGTCTCTCTATATAA\n",
    "    +\n",
    "    CICICICICICICICICICICICICICICICICICICICICICICICICICICICICICICICICICICICICICICICICICICICICICICICICICIC"
   ]
  },
  {
   "cell_type": "markdown",
   "metadata": {},
   "source": [
    "### C1_read2.fq\n",
    "\n",
    "    @GOOD-index_C1-1-Read2\n",
    "    ACCCTCGCTCNNACCTATCTCCTAACTCTCTCTCTTCTTCTTTTTTTTCTTCTCAATTCTAGCCTCGATATAGTCTCGCCCTCTCTCTAAANAANCGGCAC\n",
    "    +\n",
    "    CCCCICCCCICCCCICCCCICCCCICCCCICCCCICCCCICCCCICCCCICCCCICCCCICCCCICCCCICCCCICCCCICCCCICCCCICCCCICCCCIC\n",
    "    @GOOD-index_C1-2-Read2\n",
    "    ACGCTAGTAGCTGACTGATAGTAGAGTCGTCAGAGGGGGGTAGTAGTACGTGTCAGTCAGTCAGTCAGTCAGTCAGTCAGTGATGTGTGTGTGTGTAGCTA\n",
    "    +\n",
    "    CCCCCICCCCCICCCCCICCCCCICCCCCICCCCCICCCCCICCCCCICCCCCICCCCCICCCCCICCCCCICCCCCICCCCCICCCCCICCCCCICCCCC"
   ]
  },
  {
   "cell_type": "markdown",
   "metadata": {},
   "source": [
    "### A12_read2.fq\n",
    "\n",
    "    @GOOD-index_A12-Read2\n",
    "    CGGGGGGGGGGGGGGGGGGGGGTTTTTATACGGTCGTGCTGCTGATTGTATGTAGCGTCGTAGCTGCATAGCTGCTGCTCGCTGATGCATCGTAGCTACGC\n",
    "    +\n",
    "    CCICCICCICCICCICCICCICCICCICCICCICCICCICCICCICCICCICCICCICCICCICCICCICCICCICCICCICCICCICCICCICCICCICC"
   ]
  },
  {
   "cell_type": "code",
   "execution_count": null,
   "metadata": {},
   "outputs": [],
   "source": []
  }
 ],
 "metadata": {
  "kernelspec": {
   "display_name": "Python 3",
   "language": "python",
   "name": "python3"
  },
  "language_info": {
   "codemirror_mode": {
    "name": "ipython",
    "version": 3
   },
   "file_extension": ".py",
   "mimetype": "text/x-python",
   "name": "python",
   "nbconvert_exporter": "python",
   "pygments_lexer": "ipython3",
   "version": "3.6.5"
  }
 },
 "nbformat": 4,
 "nbformat_minor": 2
}
