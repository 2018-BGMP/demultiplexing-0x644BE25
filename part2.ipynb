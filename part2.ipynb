{
 "cells": [
  {
   "cell_type": "markdown",
   "metadata": {},
   "source": [
    "# Part 2\n",
    "### Planning major methods"
   ]
  },
  {
   "cell_type": "code",
   "execution_count": 1,
   "metadata": {},
   "outputs": [
    {
     "ename": "IndentationError",
     "evalue": "unexpected indent (<ipython-input-1-52c8a0ca695d>, line 28)",
     "output_type": "error",
     "traceback": [
      "\u001b[1;36m  File \u001b[1;32m\"<ipython-input-1-52c8a0ca695d>\"\u001b[1;36m, line \u001b[1;32m28\u001b[0m\n\u001b[1;33m    \"\"\" iterate through lines in files at the same time \"\"\"\u001b[0m\n\u001b[1;37m    ^\u001b[0m\n\u001b[1;31mIndentationError\u001b[0m\u001b[1;31m:\u001b[0m unexpected indent\n"
     ]
    }
   ],
   "source": [
    "def get_phred(char):\n",
    "    \"\"\" given char, return converted Phred quality score \"\"\"\n",
    "    pass\n",
    "\n",
    "def get_indices(file):\n",
    "    \"\"\" takes a file of indices and returns a dict of (index : name) entries \"\"\"\n",
    "    # iterate over file\n",
    "        # for each, make entry\n",
    "    # return dict\n",
    "    pass\n",
    "\n",
    "def mean_phred(seq):\n",
    "    \"\"\" given a FASTQ quality string, return mean phred score\"\"\"\n",
    "    # iterate over chars\n",
    "        # call get_phred for char and add result to running total\n",
    "    # return running total / length of sequence\n",
    "    pass\n",
    "\n",
    "def good_reads(iDict,r1,i1,r1,i2):\n",
    "    \"\"\" given a dictionary of indicies, and FASTQs [reads 1, indices 1, reads 2 indices 2]\n",
    "        write separate FASTQ files for each index and strand, with a separate\n",
    "        category for records with non-matching or improper indices. \"\"\"\n",
    "    \n",
    "        # keep track of records/index using countDict of index names (+ 'hopped')\n",
    "        \n",
    "        # gzip.open each input file using 'rt' to get text instead of binary string\n",
    "        \n",
    "        \"\"\" iterate through lines in files at the same time \"\"\"\n",
    "        # use iterator i for file lines and only when i%4==3, do\n",
    "            # if index1 in iDict and equals index2, THISONE = index name from iDict\n",
    "            # else THISONE = 'bad'\n",
    "            # open read1, read2 files for THISONE and write records\n",
    "            # add one to THISONE entry in cDict\n",
    "            # close THISONE\n",
    "        \n",
    "        \"\"\" create an output file with information \"\"\"\n",
    "        # open stats output file\n",
    "        # for each index\n",
    "            # write index name, index itself\n",
    "            # write number of records matched with it\n",
    "            # write percent of total records matched with it\n",
    "        # write number of 'hopped' index reads, and percent of 'hopped' index reads"
   ]
  },
  {
   "cell_type": "markdown",
   "metadata": {},
   "source": [
    "### Unit tests\n",
    " Here's the first index read FASTQ"
   ]
  },
  {
   "cell_type": "markdown",
   "metadata": {},
   "source": [
    "    @BAD-N_in_index1-Index1\n",
    "    NCTTCGAC\n",
    "    +\n",
    "    #AA<FJJJ\n",
    "    @GOOD-index_C1-1-Index1\n",
    "    GATCAAGG\n",
    "    +\n",
    "    AAFJAJA\n",
    "    @BAD-index_C1_vs_B2-Index1\n",
    "    GATCAAGG\n",
    "    +\n",
    "    #AA<FJJJ\n",
    "    @GOOD-index_A12-Index1\n",
    "    TCGACAAG\n",
    "    +\n",
    "    #AA<FJJJ\n",
    "    @BAD-N_in_index2-Index1\n",
    "    TACCGGAT\n",
    "    +\n",
    "    #AA<FJJJ\n",
    "    @GOOD-index_C1-2-Index1\n",
    "    GATCAAGG\n",
    "    +\n",
    "    #AA<FJJJ"
   ]
  },
  {
   "cell_type": "markdown",
   "metadata": {},
   "source": [
    "And the second index read FASTQ "
   ]
  },
  {
   "cell_type": "markdown",
   "metadata": {},
   "source": [
    "    @BAD-N_in_index1-Index2\n",
    "    TCTTCGAC\n",
    "    +\n",
    "    #AA<FJJJ\n",
    "    @GOOD-index_C1-1-Index2\n",
    "    GATCAAGG\n",
    "    +\n",
    "    AAFJAJA\n",
    "    @BAD-index_C1_vs_B2-Index2\n",
    "    GCTACTCT\n",
    "    +\n",
    "    JAACALAA\n",
    "    @GOOD-index_A12-Index2\n",
    "    TCGACAAG\n",
    "    +\n",
    "    A-H#GAAJ\n",
    "    @BAD-N_in_index2-Index2\n",
    "    TACCGGNT\n",
    "    +\n",
    "    ABCABCA\n",
    "    @GOOD-index_C1-2-Index2\n",
    "    GATCAAGG\n",
    "    +\n",
    "    JAFJEFJE"
   ]
  },
  {
   "cell_type": "markdown",
   "metadata": {},
   "source": [
    "Here's first bio read FASTQ\n",
    "\n",
    "    @BAD-N_in_index1-Read1\n",
    "    CATGGACGTAGNACCTGATCGATNNACNATNNCANTNCANTNGANATTACAGACTNAGATCANATACATAGCATTTAGATCATANNNATAATACTACCCAT\n",
    "    +\n",
    "    #AA<FJJJ\n",
    "    @GOOD-index_C1-1-Read1\n",
    "    CATGGACATGGNATCTGATCGATNNCTATNNCCANTNCANTCCTNTTGAAAAANTNAAACCCTNGAACTAGCATTTAGATCTGNATATAGACANNNACCAT\n",
    "    +\n",
    "    AAFJAJA\n",
    "    @BAD-index_C1_vs_B2-Read1\n",
    "    TAGACTAAAANCTCCTGATCGANCTANTACCANANTNCANTGTNATCGTGTCGNATAGATCANATACACNTSGATDAGATCATNCTGAGGACGDNCCCGGG\n",
    "    +\n",
    "    #AA<FJJJ\n",
    "    @GOOD-index_A12-Read1\n",
    "    GCTACNNATCGATCNAGCTAGCNATCGATANNCGATCGNNACGTACGANNNCGCTCGCCCTCGACTCTCTCGCTCGANCGTAGCGTCCNAGCTCGATCNCT\n",
    "    +\n",
    "    #AA<FJJJ\n",
    "    @BAD-N_in_index2-Read1\n",
    "    GCTDGANCCCTACTAGCTANCTAGCTAGGGCTAGCTCGACTTCGATACGATCGATCNTATAATCNNNCTACTAGCTANCGTAGCTACNNCGATGTGTCANN\n",
    "    +\n",
    "    #AA<FJJJ\n",
    "    @GOOD-index_C1-2-Read1\n",
    "    GCTAGGGGCTTTTTTTTTTTTTTTTTNANNANACTCTTATCAGTACNATAGCATAGTCNNNACGTTGTTTCTCTCTTGCGTCGTATGCTAGCTAGCTAGCT\n",
    "    +\n",
    "    #AA<FJJJ"
   ]
  },
  {
   "cell_type": "markdown",
   "metadata": {},
   "source": [
    "And here is the second bio read FASTQ\n",
    "\n",
    "    @BAD-N_in_index1-Read2\n",
    "    GCTAAACGACGCTNNNACTAGCTCTGCGTCCCCCTCGCTCTCGCGGCCTTCCGCACGCGCTCCGCGGCATCTAGCGATCTAGCCANNNNACNNANCNCTTC\n",
    "    +\n",
    "    #AA<FJJJ\n",
    "    @GOOD-index_C1-1-Read2\n",
    "    ACCCTCGCTCNNACCTATCTCCTAACTCTCTCTCTTCTTCTTTTTTTTCTTCTCAATTCTAGCCTCGATATAGTCTCGCCCTCTCTCTAAANAANCGGCAC\n",
    "    +\n",
    "    AAFJAJA\n",
    "    @BAD-index_C1_vs_B2-Read2\n",
    "    ACCATCGCTAGACACTTTAGATAGCAAAAAAAAAAAAAAAAAAACCCCCCCCCCCCCTTTTTTTTTTTTTGGGGGGGGGGGGCTCGCATAGCTCGCGCCTC\n",
    "    +\n",
    "    #AA<FJJJ\n",
    "    @GOOD-index_A12-Read2\n",
    "    CGGGGGGGGGGGGGGGGGGGGGTTTTTATACGGTCGTGCTGCTGATTGTATGTAGCGTCGTAGCTGCATAGCTGCTGCTCGCTGATGCATCGTAGCTACGC\n",
    "    +\n",
    "    #AA<FJJJ\n",
    "    @BAD-N_in_index2-Read2\n",
    "    TTTAAAACTCTCTTATATCTGGGGGNATCTCTCTTAATGCTAGAGTGAGTAGGAGAGTAGGGGGGGATATGATGATAGTAGAGTGGGGTCTCTCTATATAA\n",
    "    +\n",
    "    #AA<FJJJ\n",
    "    @GOOD-index_C1-2-Read2\n",
    "    ACGCTAGTAGCTGACTGATAGTAGAGTCGTCAGAGGGGGGTAGTAGTACGTGTCAGTCAGTCAGTCAGTCAGTCAGTCAGTGATGTGTGTGTGTGTAGCTA\n",
    "    +\n",
    "    #AA<FJJJ"
   ]
  },
  {
   "cell_type": "code",
   "execution_count": null,
   "metadata": {},
   "outputs": [],
   "source": []
  }
 ],
 "metadata": {
  "kernelspec": {
   "display_name": "Python 3",
   "language": "python",
   "name": "python3"
  },
  "language_info": {
   "codemirror_mode": {
    "name": "ipython",
    "version": 3
   },
   "file_extension": ".py",
   "mimetype": "text/x-python",
   "name": "python",
   "nbconvert_exporter": "python",
   "pygments_lexer": "ipython3",
   "version": "3.6.5"
  }
 },
 "nbformat": 4,
 "nbformat_minor": 2
}
